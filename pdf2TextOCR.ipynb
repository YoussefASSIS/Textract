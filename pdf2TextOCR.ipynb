{
 "cells": [
  {
   "cell_type": "code",
   "execution_count": null,
   "metadata": {},
   "outputs": [],
   "source": [
    "import os\n",
    "import pytesseract \n",
    "import sys \n",
    "from pdf2image import convert_from_path \n",
    "from PIL import Image\n",
    "\n",
    "from nltk.tokenize import word_tokenize\n",
    "from nltk.corpus import stopwords"
   ]
  },
  {
   "cell_type": "code",
   "execution_count": 33,
   "metadata": {},
   "outputs": [
    {
     "name": "stdout",
     "output_type": "stream",
     "text": [
      "REPERES DE LECTURE Le document intégre différents pictogrammes qui vous sont présentés ci-dessous . Objectif Identifier rapidement nos engagements clés Mettre en évidence certaines de nos innovations et nos points différenciants Identifier nos démarches en termes de responsabilité environnementale , sociale , et sociétale Selestat - 2017 - Page 3\n",
      "\n",
      "---------------------------------------------------------------------------------\n",
      "\n",
      "LES INTERLOCUTEURS VEOLIA A VOS COTES Fos eal fay oe 3 Lt sae ots feo ALSACGE= DES EQUIPES LOCALES A VOTRE L ’ équipe de Direction ECOUTE Fanny GREFFE Directrice du Territoire fanny.greffe veolia.com Harroun BOUROUBA Directeur du développement eau/assainissement harroun.bourouba veolia.com 17 , quai du Maroc 68330 HUNINGUE 10 contrats de service public 23 229 abonnés desservis en eau potable 28 928 abonnés desservis en eaux usées 20 sites de production ou de stockage d ’ eau potable 7 usines de dépollution 87 agents a votre service Vos interlocuteurs au quotidien Régis WILMET Samy BENOTHMAN Nicolas BAHL Samy BENOTHMAN Responsable Réseaux Responsable Sélestat Responsable Travaux Responsable Usines Alsace sud Alsace Sud Marina DORIER Frédéric STEFFAN Christophe DEVAVRY Alain STIMPFLING Responsable Usines Responsable GAZ Responsable GAZ Responsable Industrie Sausheim Distribution Fourniture THANN Selestat - 2017 - Page 9\n",
      "\n",
      "---------------------------------------------------------------------------------\n",
      "\n",
      "VOTRE EQUIPE REGIONALE La Direction Régionale de Veolia est au service de nos territoires . Elle met a leur disposition I ’ expertise , l ’ innovation et les bonnes pratiques développées au niveau du groupe . La région Est 103 , rue aux Arénes 57003 Metz Cedex 01 03 87 18 3400 Directeur Régional Eric LAHAYE Directeur des Opérations Sébastien DESANLIS TROYES 10 Directeur du Développement Bertrand ROZUMEK Directeur des Consommateurs Francois GIMENEZ Chiffres clés La Région Est c ’ est e 8 territoires ¢ 1030 collaborateurs e¢ 220 contrats de délégation de service public en eau potable e 110 contrats de délégation de service public en assainissement Eau potable Assainissement 1 491 871 millions d ’ habitants desservis 1702 640 millions d ’ habitants 15 163 km de conduites hors desservis branchements 8 930 km de conduites hors 652 installations de production ou de branchements stockage d ’ eau potable 185 usines de dépollution Selestat - 2017 - Page 10\n",
      "\n",
      "---------------------------------------------------------------------------------\n",
      "\n",
      "Evolution des volumes produit et acheté a d'autres services d'eau potable — 600 000 — 400 000 — 200 000 — 000 000 ms 800 000 600 000 400 000 200 000 013 014 015 016 eU1 Pes Volume Produrt Volume acheté 4 diautres services d'eau potable 4.2.2 . L ’ EFFICACITE DE LA DISTRIBUTION LE VOLUME VENDU , LE VOLUME CONSOMME ET LEUR EVOLUTION Le volume vendu Le volume vendu est celui constaté sur les factures 6mises au cours de ’ exercice . Il est égal au volume consommé autorisé augmenté du volume vendu a d ’ autres services d ’ eau potable , aprés déduction du volume de service du réseau , des dotations gratuites dégrevements pour fuites par exemple et des éventuels forfaits de consommation . Selon la typologie de l ’ arrété du 2 mai 2007 rapport sur le prix et la qualité du service , le volume vendu se décompose ainsi 2013 2014 2015 2016 2017 . N/N-1 Volume vendu selon le déeret ma ——~=~S~S*~*~*d 2 2 22 aa 288 ano 2203 391 540 703 -55,2 % Eous-total volume vendu aux abonnés du service 1115 173 1 113 295 f 054 925 a 122768 500.233 -55,4 % Volume vendu d'autres services deau potable a0easa| as 2a9 asases| goes 40470| 49.8 % Le volume vendu par typologie de clients est détaill6é comme suit Selestat - 2017 - Page 38\n",
      "\n",
      "---------------------------------------------------------------------------------\n",
      "\n",
      "Synthese des flux de volumes 4 fs Comptabilisé année entiére 508 612m ay Produit Mis en Consommé autorisé distribution année entiere Service du réseau 701 378m 660 908m 511 097m 2 485m Consommateurs Acheté Vendu Pertes sans comptage Om 40 470m 149 811m Om 4.2.3 . LA MAITRISE DES PERTES EN EAU La maitrise des pertes en eau est la résultante de deux principaux facteurs , a savoir , l ’ état du patrimoine et l ’ efficacité opérationnelle de ’ exploitant pour détecter , localiser et réparer les fuites au plus vite . La Loi Grenelle 2 a imposé un rendement minimum pour les réseaux de distribution d ’ eau potable , dont la valeur « seuil » dépend de la densité de ’ habitat et de la taille du service , ainsi que de la disponibilité de la ressource en eau . En cas de non atteinte de ce rendement minimum , la collectivité dispose d ’ un délai de deux ans pour élaborer un « plan d ’ actions » visant a maitriser les pertes en eau et améliorer le rendement . La non- réalisation de ce plan d ’ actions entraine le doublement de la redevance pour prélevement sur la ressource en eau de ’ Agence de ’ eau . Le tableau ci-dessous présente les principaux indicateurs de performance pour |l ’ année 2017 qui rendent compte de la maitrise des pertes en eau du service . Oo e fetuses a TAA TS ILC Grenelle2 % m /j/km m /j/km m /j/km Rdt Rendement du réseau de distribution % volume consommé autorisé année entiére volume vendu a d ’ autres services / volume produit volume acheté a d ’ autres services Selestat - 2017 - Page 40\n",
      "\n",
      "---------------------------------------------------------------------------------\n",
      "\n"
     ]
    }
   ],
   "source": [
    "rootdir = os.getcwd()+\"\\\\RQPS\\\\PDF\\\\\"\n",
    "# files = [f for f in os.listdir(rootdir) if os.path.isfile(os.path.join(rootdir,f))]\n",
    "# print(files)\n",
    "for _, _, files in os.walk(rootdir):\n",
    "#     print(files)\n",
    "    for PDF_file in files:\n",
    "        extension = os.path.splitext(PDF_file)[-1]\n",
    "        if(extension==\".pdf\"):\n",
    "            if(PDF_file==\"2017.pdf\"):\n",
    "                pages = convert_from_path(str(rootdir)+PDF_file, 500)\n",
    "                image_counter = 1\n",
    "                for page in pages:\n",
    "                    filename = \"RQPS\\\\images\\\\\"+str(PDF_file)+\"_page_\"+str(image_counter)+\".jpg\"\n",
    "                    page.save(filename, 'JPEG') \n",
    "                    image_counter = image_counter + 1\n",
    "                pytesseract.pytesseract.tesseract_cmd = r\"C:\\Program Files\\Tesseract-OCR\\tesseract.exe\"\n",
    "                filelimit = image_counter-1\n",
    "                outfile = \"RQPS\\\\TextOCR\\\\\"+str(PDF_file)+\".txt\"\n",
    "                f = open(outfile, \"a\")\n",
    "                f.truncate(0) # remove the content of a file\n",
    "                for i in range(1, filelimit + 1): \n",
    "                    filename = \"RQPS\\\\images\\\\\"+str(PDF_file)+\"_page_\"+str(i)+\".jpg\"\n",
    "                    text = str(((pytesseract.image_to_string(Image.open(filename)))))\n",
    "# Datapreprocessing\n",
    "                    text = text.strip() # .lower()\n",
    "                    tokens = word_tokenize(text, language='french')\n",
    "                    punctuations = ['‘','?','(',')',';',':','[',']','!','\"','#','&','*','{','|','}','`','^','_','@','=','<','>','+','$','~','£','..','...'] \n",
    "                    text = [word for word in tokens if not word in punctuations]\n",
    "                    text = \" \".join(text)\n",
    "                    print(text)\n",
    "                    print(\"\\n---------------------------------------------------------------------------------\\n\")\n",
    "                    f.write(text) \n",
    "                f.close()"
   ]
  }
 ],
 "metadata": {
  "kernelspec": {
   "display_name": "Python 3",
   "language": "python",
   "name": "python3"
  },
  "language_info": {
   "codemirror_mode": {
    "name": "ipython",
    "version": 3
   },
   "file_extension": ".py",
   "mimetype": "text/x-python",
   "name": "python",
   "nbconvert_exporter": "python",
   "pygments_lexer": "ipython3",
   "version": "3.7.3"
  }
 },
 "nbformat": 4,
 "nbformat_minor": 4
}
